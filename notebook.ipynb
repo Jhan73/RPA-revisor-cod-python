{
 "cells": [
  {
   "cell_type": "code",
   "execution_count": 4,
   "metadata": {},
   "outputs": [
    {
     "data": {
      "text/plain": [
       "'m'"
      ]
     },
     "execution_count": 4,
     "metadata": {},
     "output_type": "execute_result"
    }
   ],
   "source": [
    "texto = \"Hola mundo\"\n",
    "lista = list(texto)[-5]\n",
    "lista"
   ]
  },
  {
   "cell_type": "code",
   "execution_count": 6,
   "metadata": {},
   "outputs": [
    {
     "name": "stdout",
     "output_type": "stream",
     "text": [
      "18\n"
     ]
    }
   ],
   "source": [
    "reporte_nota_alumno = {\n",
    "            \"alumno\":\"\",\n",
    "            \"PC1\":{\"p1\":0,\"p2\":0,\"p3\":0,},\n",
    "            \"PC1\":{\"p1\":0,\"p2\":0,\"p3\":0,},\n",
    "            \"PC2\":{\"p1\":0,\"p2\":0,\"p3\":0,},\n",
    "            \"PC3\":{\"p1\":0,\"p2\":0,\"p3\":0,},\n",
    "            \"PC4\":{\"p1\":0,\"p2\":0,\"p3\":0,},\n",
    "            \"EP\":{\"p1\":0,\"p2\":0,\"p3\":0,},\n",
    "            \"EF\":{\"p1\":0,\"p2\":0,\"p3\":0,},\n",
    "            \"ES\":{\"p1\":0,\"p2\":0,\"p3\":0,},\n",
    "        }\n",
    "reporte_nota_alumno[\"EF\"][\"p1\"] = 18\n",
    "print(reporte_nota_alumno[\"EF\"][\"p1\"])"
   ]
  },
  {
   "cell_type": "code",
   "execution_count": null,
   "metadata": {},
   "outputs": [],
   "source": []
  }
 ],
 "metadata": {
  "kernelspec": {
   "display_name": "env",
   "language": "python",
   "name": "python3"
  },
  "language_info": {
   "codemirror_mode": {
    "name": "ipython",
    "version": 3
   },
   "file_extension": ".py",
   "mimetype": "text/x-python",
   "name": "python",
   "nbconvert_exporter": "python",
   "pygments_lexer": "ipython3",
   "version": "3.11.3"
  },
  "orig_nbformat": 4
 },
 "nbformat": 4,
 "nbformat_minor": 2
}
